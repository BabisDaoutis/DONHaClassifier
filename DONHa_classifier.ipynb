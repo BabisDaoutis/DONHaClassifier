{
 "cells": [
  {
   "cell_type": "markdown",
   "metadata": {},
   "source": [
    "# DONHa classifier <br>\n",
    "Application nstructions <br> <br>\n",
    "\n",
    "This notebook contains all the essential functions and processes for importing your galaxy dataset (.csv or .fits) for classification. It is organized into three sections:\n",
    "\n",
    "- **Section 0**: Imports the necessary Python packages and defines the functions required for classification.\n",
    "- **Section 1**: Implements the DOHNa classifier on the imported galaxy data.\n",
    "- **Section 2**: Calculates the percentage composition of the sample for each activity class as determined by the DOHNa classifier and plots a histogram for visualization (this section is optional).\n",
    "\n",
    "Please note that only the first, second, and last cells of Section 2 require user modification to specify the local path to the relevant files."
   ]
  },
  {
   "cell_type": "markdown",
   "metadata": {},
   "source": [
    "---"
   ]
  },
  {
   "cell_type": "markdown",
   "metadata": {},
   "source": [
    "## 0 - Import packages and define functions"
   ]
  },
  {
   "cell_type": "code",
   "execution_count": 1,
   "metadata": {},
   "outputs": [],
   "source": [
    "import os \n",
    "from astropy.table import Table\n",
    "import matplotlib.pyplot as plt\n",
    "import pandas as pd\n",
    "import numpy as np\n",
    "import joblib\n",
    "import math"
   ]
  },
  {
   "cell_type": "code",
   "execution_count": 2,
   "metadata": {},
   "outputs": [],
   "source": [
    "def load_file(name, file_format):\n",
    "    \"\"\"\n",
    "    Load a file based on the given format.\n",
    "\n",
    "    Parameters:\n",
    "        name (str): The base name of the file (without extension).\n",
    "        file_format (str): The format of the file, either 'csv' or 'fits'.\n",
    "\n",
    "    Returns:\n",
    "        pandas.DataFrame\n",
    "    \"\"\"\n",
    "    if file_format=='csv':\n",
    "        df = pd.read_csv(name+'.csv')\n",
    "    elif file_format=='fits':\n",
    "        dat = Table.read(name+'.fits', format='fits')\n",
    "        df = dat.to_pandas()\n",
    "    return df"
   ]
  },
  {
   "cell_type": "code",
   "execution_count": 3,
   "metadata": {},
   "outputs": [],
   "source": [
    "def RF_classification(clf, dfc):\n",
    "    \"\"\"\n",
    "    Classify/decompose the ativity of galaxies based on their features using a trained Random Forest classifier.\n",
    "\n",
    "    This function takes a pre-trained Random Forest classifier and a DataFrame of features, predicting the probabilities \n",
    "    for each object belonging to 7 different classes; (0: 'Pure SB', 1: 'Pure AGN', 2: 'Pure Pas', 3: 'SB-AGN', 4: 'AGN-SB',\n",
    "    5: 'SB-pas', 6: 'Pas-SB', 7: 'Pas-AGN', 8: 'AGN-pas', -1: 'Unclassified', see the paper for more details). \n",
    "    It then classifies the objects into specific classes or hybrid classes based on their predicted probabilities \n",
    "    and defined thresholds.\n",
    "\n",
    "    Parameters:\n",
    "        clf (RandomForestClassifier): A pre-trained Random Forest classifier used for predicting the class probabilities.\n",
    "        dfc (pandas.DataFrame): A DataFrame containing the feature data of the objects to be classified.\n",
    "\n",
    "    Returns:\n",
    "        pandas.DataFrame: A DataFrame with the original features, predicted probabilities for each class, \n",
    "        and the final classification (column: classification) indicating the category of each object.\n",
    "    \"\"\"\n",
    "    dfc.reset_index(inplace=True, drop=True)\n",
    "    df_pr = pd.DataFrame(clf.predict_proba(dfc), columns=['proba_RF_SFG', 'proba_RF_AGN', 'proba_RF_PAS'])\n",
    "    dfp = pd.concat([dfc, df_pr], axis=1)\n",
    "    dfp['RF_label'] = clf.predict(dfc)\n",
    "    dfp['mx_prb_mns_sc'] = None\n",
    "    dfp['mx_prb'] = None\n",
    "    dfp['scmx_prb_mns_lst'] = None\n",
    "    dfp['scmx_prb'] = None\n",
    "    dfp['classification'] = None\n",
    "    \n",
    "    for i in range(0, len(df_pr)):\n",
    "        l = df_pr.iloc[i].tolist()\n",
    "        nw_ls = [x for x in l if not math.isnan(x)]\n",
    "        l = nw_ls\n",
    "        l.sort()\n",
    "        dfp.loc[i, 'mx_prb_mns_sc'] = l[-1] - l[-2]\n",
    "        dfp.loc[i, 'mx_prb'] = max(l)\n",
    "        dfp.loc[i, 'scmx_prb_mns_lst'] = l[1] - l[0]\n",
    "        dfp.loc[i, 'scmx_prb'] = l[1]\n",
    "    \n",
    "    dft = df_pr.T\n",
    "    for i in range(0, len(df_pr)):\n",
    "        fst_cls = dft[i].index[np.where((dft[i] == np.max(dft[i])))].tolist()[0]\n",
    "        snd_cls = dft[i].index[np.where((dft[i] == np.median(dft[i])))].tolist()[0]\n",
    "        RF_LBL = dfp['RF_label'].iloc[i]\n",
    "        \n",
    "        thres = 0.90  # selection threshold (can be modified, see the paper)\n",
    "        \n",
    "        if dfp['mx_prb_mns_sc'].iloc[i] < -2 * dfp['scmx_prb_mns_lst'].iloc[i] + 0.8:  # delta_p = -2 * dp' + 0.8\n",
    "            dfp.loc[i, 'classification'] = -1\n",
    "        elif dfp['mx_prb'].iloc[i] >= thres and fst_cls == 'proba_RF_SFG':\n",
    "            dfp.loc[i, 'classification'] = 0\n",
    "        elif dfp['mx_prb'].iloc[i] >= thres and fst_cls == 'proba_RF_AGN': \n",
    "            dfp.loc[i, 'classification'] = 1\n",
    "        elif dfp['mx_prb'].iloc[i] >= thres and fst_cls == 'proba_RF_PAS':\n",
    "            dfp.loc[i, 'classification'] = 2\n",
    "        elif dfp['mx_prb'].iloc[i] < thres and fst_cls == 'proba_RF_SFG' and snd_cls == 'proba_RF_AGN' and RF_LBL == 0:\n",
    "            dfp.loc[i, 'classification'] = 3\n",
    "        elif dfp['mx_prb'].iloc[i] < thres and fst_cls == 'proba_RF_AGN' and snd_cls == 'proba_RF_SFG' and RF_LBL == 1:\n",
    "            dfp.loc[i, 'classification'] = 4\n",
    "        elif dfp['mx_prb'].iloc[i] < thres and fst_cls == 'proba_RF_SFG' and snd_cls == 'proba_RF_PAS' and RF_LBL == 0:\n",
    "            dfp.loc[i, 'classification'] = 5\n",
    "        elif dfp['mx_prb'].iloc[i] < thres and fst_cls == 'proba_RF_PAS' and snd_cls == 'proba_RF_SFG' and RF_LBL == 2:\n",
    "            dfp.loc[i, 'classification'] = 6\n",
    "        elif dfp['mx_prb'].iloc[i] < thres and fst_cls == 'proba_RF_PAS' and snd_cls == 'proba_RF_AGN' and RF_LBL == 2:\n",
    "            dfp.loc[i, 'classification'] = 7\n",
    "        elif dfp['mx_prb'].iloc[i] < thres and fst_cls == 'proba_RF_AGN' and snd_cls == 'proba_RF_PAS' and RF_LBL == 1:\n",
    "            dfp.loc[i, 'classification'] = 8\n",
    "        else:\n",
    "            break\n",
    "\n",
    "    dfp.drop('RF_label', axis=1, inplace=True)\n",
    "    return dfp"
   ]
  },
  {
   "cell_type": "markdown",
   "metadata": {},
   "source": [
    "---"
   ]
  },
  {
   "cell_type": "markdown",
   "metadata": {},
   "source": [
    "## 1 - Implementation"
   ]
  },
  {
   "cell_type": "code",
   "execution_count": 4,
   "metadata": {},
   "outputs": [],
   "source": [
    "# load the file that contains the galaxies to be classifeid - change the path with yours\n",
    "data = load_file('your_path_to_file/test_sample_galaxies','csv')"
   ]
  },
  {
   "cell_type": "code",
   "execution_count": 5,
   "metadata": {},
   "outputs": [],
   "source": [
    " # load the model - replace this path with the path where you have stored the \"DONHa_classifier.sav\" file\n",
    "filename = 'your_path_to_file/DONHa_classifier.sav' \n",
    "model = joblib.load(filename)\n",
    "\n",
    "# ensure your column names here correspond to the equivalent widths of Hα, [O III] 5007, [N II] 6584, and D4000, in this specific order\n",
    "# your column names do not have to match these names\n",
    "column_names = ['H_ALPHA_EQW','OIII_5007_EQW','NII_6584_EQW','D4000_N']"
   ]
  },
  {
   "cell_type": "code",
   "execution_count": 6,
   "metadata": {},
   "outputs": [],
   "source": [
    "# Name replacemant to match the ones during the training - this happens automatically\n",
    "data = data.rename(columns={column_names[0] : model.feature_names_in_[0],\n",
    "                            column_names[1] : model.feature_names_in_[1],\n",
    "                            column_names[2] : model.feature_names_in_[2],\n",
    "                            column_names[3] : model.feature_names_in_[3]})"
   ]
  },
  {
   "cell_type": "code",
   "execution_count": 7,
   "metadata": {},
   "outputs": [],
   "source": [
    "# RF classification\n",
    "df_class = RF_classification(model,data[column_names])"
   ]
  },
  {
   "cell_type": "code",
   "execution_count": 8,
   "metadata": {},
   "outputs": [],
   "source": [
    "# save the results on a csv file (optional) - change the path with yours\n",
    "df_class.to_csv('your_path_to_file/DONHa_classification_result.csv', index=False) "
   ]
  },
  {
   "cell_type": "markdown",
   "metadata": {},
   "source": [
    "-----"
   ]
  },
  {
   "cell_type": "markdown",
   "metadata": {},
   "source": [
    "## 2 - Visualize the classification result"
   ]
  },
  {
   "cell_type": "code",
   "execution_count": 9,
   "metadata": {},
   "outputs": [
    {
     "name": "stdout",
     "output_type": "stream",
     "text": [
      "Pure SB: 17.00%\n",
      "SB-AGN: 6.00%\n",
      "SB-pas: 19.00%\n",
      "Pure AGN: 1.00%\n",
      "AGN-SB: 5.00%\n",
      "AGN-pas: 6.00%\n",
      "Pure pas: 22.00%\n",
      "Pas-SB: 16.00%\n",
      "Pas-AGN: 1.00%\n",
      "Inconclusive: 7.00%\n"
     ]
    }
   ],
   "source": [
    "data = {'Pure SB': len(df_class[df_class['classification'] == 0]),\n",
    "        'SB-AGN': len(df_class[df_class['classification'] == 3]),\n",
    "        'SB-pas': len(df_class[df_class['classification'] == 5]),\n",
    "        'Pure AGN': len(df_class[df_class['classification'] == 1]),\n",
    "        'AGN-SB': len(df_class[df_class['classification'] == 4]),\n",
    "        'AGN-pas': len(df_class[df_class['classification'] == 8]),\n",
    "        'Pure pas': len(df_class[df_class['classification'] == 2]),\n",
    "        'Pas-SB': len(df_class[df_class['classification'] == 6]),\n",
    "        'Pas-AGN': len(df_class[df_class['classification'] == 7]),\n",
    "        'Inconclusive': len(df_class[df_class['classification'] == -1])\n",
    "        }\n",
    "\n",
    "total = sum(data.values())\n",
    "for category, count in data.items():\n",
    "    percentage = (count / total) * 100\n",
    "    print(f\"{category}: {percentage:.2f}%\")"
   ]
  },
  {
   "cell_type": "code",
   "execution_count": 10,
   "metadata": {},
   "outputs": [
    {
     "data": {
      "image/png": "[encoded data removed]",
      "text/plain": [
       "<Figure size 640x480 with 1 Axes>"
      ]
     },
     "metadata": {},
     "output_type": "display_data"
    }
   ],
   "source": [
    "df_class.loc[:, 'classification'] = df_class['classification'].replace({0: 'Pure SB', 1: 'Pure AGN', 2: 'Pure Pas', 3: 'SB-AGN', 4: 'AGN-SB', 5: 'SB-pas', 6: 'Pas-SB', 7: 'Pas-AGN', 8: 'AGN-pas', -1: 'Unclassified'})\n",
    "counts = df_class['classification'].value_counts().sort_index()\n",
    "counts.plot(kind='bar', color='g', align='center')\n",
    "plt.xlabel('Activity class', fontsize=14)\n",
    "plt.ylabel('Count', fontsize=14)\n",
    "plt.xticks(rotation=80, fontsize=14)\n",
    "plt.yticks(fontsize=14)\n",
    "plt.show()\n"
   ]
  },
  {
   "cell_type": "code",
   "execution_count": null,
   "metadata": {},
   "outputs": [],
   "source": []
  },
  {
   "cell_type": "code",
   "execution_count": null,
   "metadata": {},
   "outputs": [],
   "source": []
  }
 ],
 "metadata": {
  "kernelspec": {
   "display_name": "Python 3",
   "language": "python",
   "name": "python3"
  },
  "language_info": {
   "codemirror_mode": {
    "name": "ipython",
    "version": 3
   },
   "file_extension": ".py",
   "mimetype": "text/x-python",
   "name": "python",
   "nbconvert_exporter": "python",
   "pygments_lexer": "ipython3",
   "version": "3.12.4"
  }
 },
 "nbformat": 4,
 "nbformat_minor": 2
}
